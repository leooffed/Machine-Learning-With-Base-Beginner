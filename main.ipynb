{
 "cells": [
  {
   "cell_type": "markdown",
   "id": "04eb9c84",
   "metadata": {},
   "source": [
    "#### Variable"
   ]
  },
  {
   "cell_type": "code",
   "execution_count": null,
   "id": "8e1514eb",
   "metadata": {},
   "outputs": [],
   "source": [
    "\"\"\"\n",
    "    Une variable est un espace de stockage qui contient une valeur.\n",
    "    En Python, les variables sont créées en assignant une valeur à un nom de variable.\n",
    "    Voici quelques exemples de variables en Python :\n",
    "\"\"\"\n",
    "text = \"Bonjour\"\n",
    "# Exemple de variable de type chaîne de caractères\n",
    "nombre = 42  # Exemple de variable de type entier\n",
    "decimal = 3.14  # Exemple de variable de type flottant\n",
    "boolean = True  # Exemple de variable de type booléen\n"
   ]
  },
  {
   "cell_type": "markdown",
   "id": "110e1ed6",
   "metadata": {},
   "source": [
    "### Condiction"
   ]
  },
  {
   "cell_type": "code",
   "execution_count": null,
   "id": "5775b7c8",
   "metadata": {},
   "outputs": [
    {
     "name": "stdout",
     "output_type": "stream",
     "text": [
      "Vous êtes majeur.\n"
     ]
    }
   ],
   "source": [
    "\"\"\"\n",
    "    Une condition est une expression qui évalue à vrai ou faux.\n",
    "    En Python, les conditions sont souvent utilisées avec des instructions if, elif et else.\n",
    "    Voici un exemple de condition en Python :\n",
    "\"\"\"\n",
    "age = 18\n",
    "if age >= 18:\n",
    "    print(\"Vous êtes majeur.\")\n",
    "else:\n",
    "    print(\"Vous êtes mineur.\")\n"
   ]
  },
  {
   "cell_type": "markdown",
   "id": "b5254486",
   "metadata": {},
   "source": [
    "### Constant"
   ]
  },
  {
   "cell_type": "code",
   "execution_count": null,
   "id": "62ff9921",
   "metadata": {},
   "outputs": [
    {
     "data": {
      "text/plain": [
       "3.14159"
      ]
     },
     "execution_count": 4,
     "metadata": {},
     "output_type": "execute_result"
    }
   ],
   "source": [
    "\"\"\"\n",
    "    Une constant est une variable dont la valeur ne change pas au cours de l'exécution du programme.\n",
    "    En Python, les constantes sont généralement définies en utilisant des noms de variables en majuscules.\n",
    "    Voici un exemple de constante en Python :\n",
    "\"\"\"\n",
    "PI = 3.14159  # Exemple de constante pour la valeur de pi\n",
    "PI\n"
   ]
  },
  {
   "cell_type": "markdown",
   "id": "c2206c49",
   "metadata": {},
   "source": [
    "### Boucle (while > Tant que)"
   ]
  },
  {
   "cell_type": "code",
   "execution_count": null,
   "id": "f595e4bf",
   "metadata": {},
   "outputs": [
    {
     "name": "stdout",
     "output_type": "stream",
     "text": [
      "0\n",
      "1\n",
      "2\n",
      "3\n",
      "4\n",
      "5\n"
     ]
    }
   ],
   "source": [
    "\"\"\"\n",
    "    Les boucles sont utilisées pour répéter une action un certain nombre de fois ou tant qu'une condition est vraie.\n",
    "    En Python, on utilise souvent les boucles for et while.\n",
    "    Voici un exemple de boucle for en Python :\n",
    "\"\"\"\n",
    "nombre = 0\n",
    "while nombre < 6:\n",
    "    print(nombre)\n",
    "    nombre += 1 # Exemple de boucle while qui s'arrête lorsque nombre est supérieur à 0\n"
   ]
  },
  {
   "cell_type": "markdown",
   "id": "23b63961",
   "metadata": {},
   "source": [
    "### Boucle (For > Pour = Function Range())"
   ]
  },
  {
   "cell_type": "code",
   "execution_count": null,
   "id": "748dc313",
   "metadata": {},
   "outputs": [
    {
     "name": "stdout",
     "output_type": "stream",
     "text": [
      "0\n",
      "1\n",
      "2\n",
      "3\n",
      "4\n"
     ]
    }
   ],
   "source": [
    "for i in range(5):\n",
    "    print(i)  # Exemple de boucle for qui itère sur une séquence de nombres de 0 à 4\n"
   ]
  },
  {
   "cell_type": "markdown",
   "id": "2815a3e8",
   "metadata": {},
   "source": [
    "### Les Exception (Try and Except)"
   ]
  },
  {
   "cell_type": "code",
   "execution_count": null,
   "id": "ce74dce4",
   "metadata": {},
   "outputs": [
    {
     "name": "stdout",
     "output_type": "stream",
     "text": [
      "Erreur : Division par zéro.\n"
     ]
    }
   ],
   "source": [
    "\"\"\"\n",
    "    Exception est un événement qui se produit pendant l'exécution d'un programme et qui interrompt son flux normal.\n",
    "    En Python, les exceptions sont gérées à l'aide des blocs try et except.\n",
    "    Voici un exemple de gestion d'exception en Python :\n",
    "\"\"\"\n",
    "\n",
    "try:\n",
    "    result = 10 / 0  # Cela va provoquer une division par zéro\n",
    "except ZeroDivisionError:\n",
    "    print(\"Erreur : Division par zéro.\")\n"
   ]
  },
  {
   "cell_type": "markdown",
   "id": "dd7f3756",
   "metadata": {},
   "source": [
    "### La Function > Parametre"
   ]
  },
  {
   "cell_type": "code",
   "execution_count": null,
   "id": "efff6e50",
   "metadata": {},
   "outputs": [
    {
     "name": "stdout",
     "output_type": "stream",
     "text": [
      "Bonjour, Alice!\n"
     ]
    }
   ],
   "source": [
    "\"\"\"\n",
    "    Fonction est un bloc de code réutilisable qui effectue une tâche spécifique.\n",
    "    En Python, les fonctions sont définies à l'aide du mot-clé def.\n",
    "    Voici un exemple de fonction en Python :\n",
    "\"\"\"\n",
    "\n",
    "def saluer(nom):\n",
    "    \"\"\"\n",
    "    Cette fonction prend un nom en paramètre et affiche un message de salutation.\n",
    "    \"\"\"\n",
    "    print(f\"Bonjour, {nom}!\")\n",
    "saluer(\"Alice\")  # Appel de la fonction avec le nom \"Alice\"\n"
   ]
  },
  {
   "cell_type": "code",
   "execution_count": null,
   "id": "7de7c6cc",
   "metadata": {},
   "outputs": [
    {
     "name": "stdout",
     "output_type": "stream",
     "text": [
      "La somme est : 8\n"
     ]
    }
   ],
   "source": [
    "def addition(a, b):\n",
    "    \"\"\"\n",
    "    Cette fonction prend deux nombres en paramètre et retourne leur somme.\n",
    "    \"\"\"\n",
    "    return a + b\n",
    "resultat = addition(5, 3)  # Appel de la fonction avec les nombres 5 et 3\n",
    "print(f\"La somme est : {resultat}\")  # Aff\n"
   ]
  },
  {
   "cell_type": "code",
   "execution_count": null,
   "id": "293e0a6e",
   "metadata": {},
   "outputs": [
    {
     "name": "stdout",
     "output_type": "stream",
     "text": [
      "Arguments positionnels : (1, 2, 3)\n",
      "Arguments nommés : {'nom': 'Alice', 'age': 30}\n"
     ]
    }
   ],
   "source": [
    "def argument_exemple(*args, **kwargs):\n",
    "    \"\"\"\n",
    "    Cette fonction prend un nombre variable d'arguments positionnels et nommés.\n",
    "    \"\"\"\n",
    "    print(\"Arguments positionnels :\", args)\n",
    "    print(\"Arguments nommés :\", kwargs)\n",
    "argument_exemple(1, 2, 3, nom=\"Alice\", age=30)  # Appel de la fonction avec des arguments positionnels et nommés\n"
   ]
  },
  {
   "cell_type": "code",
   "execution_count": null,
   "id": "272f4b07",
   "metadata": {},
   "outputs": [
    {
     "name": "stdout",
     "output_type": "stream",
     "text": [
      "Vous avez entré le nombre : 12\n",
      "Vous avez entré le nombre : 12\n",
      "Fin du programme.\n"
     ]
    }
   ],
   "source": [
    "while True:\n",
    "    try:\n",
    "        nombre = int(input(\"Entrez un nombre entier (0 pour quitter) : \"))\n",
    "        if nombre == 0:\n",
    "            print(\"Fin du programme.\")\n",
    "            break\n",
    "        else:\n",
    "            print(f\"Vous avez entré le nombre : {nombre}\")\n",
    "    except ValueError:\n",
    "        print(\"Erreur : Veuillez entrer un nombre entier valide.\")\n"
   ]
  },
  {
   "cell_type": "markdown",
   "id": "f54a0473",
   "metadata": {},
   "source": [
    "### Construction d'un Package"
   ]
  },
  {
   "cell_type": "code",
   "execution_count": null,
   "id": "de1e73eb",
   "metadata": {},
   "outputs": [],
   "source": [
    "import calculator.operator\n"
   ]
  },
  {
   "cell_type": "code",
   "execution_count": null,
   "id": "ebabe59c",
   "metadata": {},
   "outputs": [
    {
     "name": "stdout",
     "output_type": "stream",
     "text": [
      "Le résultat de l'addition est : 8\n"
     ]
    }
   ],
   "source": [
    "resultat = calculator.operator.addiction(5, 3)\n",
    "print(f\"Le résultat de l'addition est : {resultat}\")  # Affiche le résultat de l'addition\n"
   ]
  },
  {
   "cell_type": "code",
   "execution_count": null,
   "id": "71f6d5ce",
   "metadata": {},
   "outputs": [
    {
     "name": "stdout",
     "output_type": "stream",
     "text": [
      "Bonjour c'est moi Leonel j'ai presentement 14 ans\n"
     ]
    }
   ],
   "source": [
    "class Username():\n",
    "    def __init__(self, name, age):\n",
    "        self.name = name\n",
    "        self.age = age\n",
    "    \n",
    "    def presentation(self, name, age):\n",
    "        print(f\"Bonjour c'est moi {name} j'ai presentement {age} ans\")\n",
    "\n",
    "resultat = Username(\"Leo\", 12)\n",
    "resultat.presentation(\"Leonel\", 14)\n"
   ]
  },
  {
   "cell_type": "markdown",
   "id": "3afdf2d2",
   "metadata": {},
   "source": [
    "### GENERATEUR ET ITERATEURS"
   ]
  },
  {
   "cell_type": "code",
   "execution_count": null,
   "id": "152c932b",
   "metadata": {},
   "outputs": [
    {
     "name": "stdout",
     "output_type": "stream",
     "text": [
      "0\n",
      "1\n",
      "2\n",
      "3\n",
      "4\n",
      "5\n",
      "6\n",
      "7\n",
      "8\n",
      "9\n"
     ]
    }
   ],
   "source": [
    "def lazy_range(n):\n",
    "    \"\"\"Une version paresseuse de range\"\"\"\n",
    "    i = 0\n",
    "    while i < n:\n",
    "        yield(i)\n",
    "        i += 1\n",
    "\n",
    "for i in lazy_range(10):\n",
    "    print(i)\n"
   ]
  },
  {
   "cell_type": "code",
   "execution_count": null,
   "id": "6b4c7d1a",
   "metadata": {},
   "outputs": [
    {
     "data": {
      "text/plain": [
       "[0.4702616598849949, 0.7748035796591713, 0.2873231612434709, 0.693467044086972]"
      ]
     },
     "execution_count": 3,
     "metadata": {},
     "output_type": "execute_result"
    }
   ],
   "source": [
    "import random\n",
    "four_uniform_randoms = [random.random() for _ in range(4)]\n",
    "four_uniform_randoms\n"
   ]
  },
  {
   "cell_type": "code",
   "execution_count": null,
   "id": "cc0b6057",
   "metadata": {},
   "outputs": [
    {
     "data": {
      "text/plain": [
       "'Charlie'"
      ]
     },
     "execution_count": 6,
     "metadata": {},
     "output_type": "execute_result"
    }
   ],
   "source": [
    "my_best_friend = random.choice([\"Alice\", \"Bod\", \"Charlie\"])\n",
    "my_best_friend\n"
   ]
  },
  {
   "cell_type": "code",
   "execution_count": null,
   "id": "e9eca8e9",
   "metadata": {},
   "outputs": [],
   "source": []
  }
 ],
 "metadata": {
  "kernelspec": {
   "display_name": "Python 3",
   "language": "python",
   "name": "python3"
  },
  "language_info": {
   "codemirror_mode": {
    "name": "ipython",
    "version": 3
   },
   "file_extension": ".py",
   "mimetype": "text/x-python",
   "name": "python",
   "nbconvert_exporter": "python",
   "pygments_lexer": "ipython3",
   "version": "3.12.9"
  }
 },
 "nbformat": 4,
 "nbformat_minor": 5
}

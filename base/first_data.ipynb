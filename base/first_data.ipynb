{
 "cells": [
  {
   "cell_type": "markdown",
   "id": "aa3200fa",
   "metadata": {},
   "source": [
    "## Chapitre: 1 Data Science\n",
    "#### Vecteurs"
   ]
  },
  {
   "cell_type": "code",
   "execution_count": 1,
   "id": "261fc223",
   "metadata": {},
   "outputs": [],
   "source": [
    "height_weight_age = [70, 170, 40]\n",
    "grades = [95, 80, 75, 62]\n"
   ]
  },
  {
   "cell_type": "markdown",
   "id": "e9080815",
   "metadata": {},
   "source": [
    "### *Comprehension et implementation*"
   ]
  },
  {
   "cell_type": "code",
   "execution_count": 2,
   "id": "6d8dda97",
   "metadata": {},
   "outputs": [],
   "source": [
    "def vector_add(v, w):\n",
    "    \"\"\"Ajoutons les elements correspondants\"\"\"\n",
    "    return [v_i + w_i for v_i, w_i in zip(v, w)]\n"
   ]
  },
  {
   "cell_type": "code",
   "execution_count": 3,
   "id": "6324b0f9",
   "metadata": {},
   "outputs": [],
   "source": [
    "def vector_substract(v, w):\n",
    "    \"\"\"Ajoutons les elements correspondants\"\"\"\n",
    "    return [v_i - w_i for v_i, w_i in zip(v, w)]\n"
   ]
  },
  {
   "cell_type": "code",
   "execution_count": 4,
   "id": "cbf5f964",
   "metadata": {},
   "outputs": [],
   "source": [
    "def vector_sum(vectors):\n",
    "    \"\"\"Fait la somme de tous les elements correspondants\"\"\"\n",
    "    result = vectors[0]\n",
    "    for vector in vectors[0]:\n",
    "        result = vector_add(result, vector)\n",
    "    return result\n"
   ]
  },
  {
   "cell_type": "code",
   "execution_count": 5,
   "id": "a0c32c98",
   "metadata": {},
   "outputs": [],
   "source": [
    "def scalar_multiply(c, v):\n",
    "    \"\"\"Nous implementons un scalaire\"\"\"\n",
    "    return [c * v_i for v_i in v]\n"
   ]
  },
  {
   "cell_type": "code",
   "execution_count": 6,
   "id": "ebaeb3cf",
   "metadata": {},
   "outputs": [],
   "source": [
    "def vector_mean(vectors):\n",
    "    \"\"\"Calculons le vecteur dont le ieme est la moyenne des iemes elements des vecteurs d'entree\"\"\"\n",
    "    n = len(vectors)\n",
    "    return scalar_multiply(1/n, vector_sum(vectors))\n"
   ]
  },
  {
   "cell_type": "code",
   "execution_count": 7,
   "id": "55d1ea02",
   "metadata": {},
   "outputs": [],
   "source": [
    "def dot(v, w):\n",
    "    \"\"\"Calculons le produit Scalaire\"\"\"\n",
    "    return sum(v_i * w_i for v_i, w_i in zip(v, w))\n"
   ]
  },
  {
   "cell_type": "code",
   "execution_count": 8,
   "id": "fee7877d",
   "metadata": {},
   "outputs": [],
   "source": [
    "def sum_of_squares(v):\n",
    "    \"\"\"Calculons la sommes des carres: v_i * v_i + ... + v_n * v_n\"\"\"\n",
    "    return dot(v, v)\n"
   ]
  },
  {
   "cell_type": "code",
   "execution_count": 9,
   "id": "8fa49bd1",
   "metadata": {},
   "outputs": [],
   "source": [
    "import math\n",
    "def magnitude(v):\n",
    "    \"\"\"Nous importont la function Math pour utiliser l'erreur quadratique moyenne\"\"\"\n",
    "    return math.sqrt(sum_of_squares(v))\n"
   ]
  },
  {
   "cell_type": "code",
   "execution_count": 10,
   "id": "92177d44",
   "metadata": {},
   "outputs": [],
   "source": [
    "def squared_distance(v, w):\n",
    "    \"\"\"Calculons la distance des carrer (v_1 - w_1)^2+...\"\"\"\n",
    "    return sum_of_squares(vector_substract(v, w))\n"
   ]
  },
  {
   "cell_type": "code",
   "execution_count": 11,
   "id": "c8926e57",
   "metadata": {},
   "outputs": [],
   "source": [
    "def distance(v, w):\n",
    "    \"\"\"Calculons la distance\"\"\"\n",
    "    return math.sqrt(squared_distance(v, w))\n"
   ]
  },
  {
   "cell_type": "markdown",
   "id": "889b712a",
   "metadata": {},
   "source": [
    "### Matrices\n",
    "pas convactions ils sont noter en *Maj*"
   ]
  },
  {
   "cell_type": "code",
   "execution_count": 12,
   "id": "32b80f6a",
   "metadata": {},
   "outputs": [],
   "source": [
    "A = [[1, 2, 3],\n",
    "     [4, 5, 6]]\n",
    "\n",
    "B = [[1, 2],\n",
    "     [3, 4],\n",
    "     [5, 6]]\n"
   ]
  },
  {
   "cell_type": "code",
   "execution_count": 13,
   "id": "30123b4b",
   "metadata": {},
   "outputs": [],
   "source": [
    "def shape(A):\n",
    "    \"\"\"La taille de notre liste\"\"\"\n",
    "    num_rows = len(A)\n",
    "    num_cols = len(A[0]) if A else 0\n",
    "    return num_rows, num_cols\n"
   ]
  },
  {
   "cell_type": "code",
   "execution_count": 14,
   "id": "7ca989b1",
   "metadata": {},
   "outputs": [],
   "source": [
    "def get_row(A, i):\n",
    "    return A[i]\n",
    "\n",
    "def get_colmn(A, j):\n",
    "    return [A_i[j] for A_i in A]\n"
   ]
  },
  {
   "cell_type": "code",
   "execution_count": 15,
   "id": "e3daa42d",
   "metadata": {},
   "outputs": [],
   "source": [
    "def make_matrix(num_rows, num_cols, entry_fn):\n",
    "    \"\"\"Retournons une matrice num_rows X num_cols matrice dont l'entree de rang (i, j) est l'entree _fn(i, j)\"\"\"\n",
    "    return [[entry_fn(i, j) for j in range(num_cols)]\n",
    "            for i in range(num_cols)]\n"
   ]
  },
  {
   "cell_type": "code",
   "execution_count": 16,
   "id": "9667f705",
   "metadata": {},
   "outputs": [],
   "source": [
    "def is_diagonal(i, j):\n",
    "    \"\"\"Creer une matrice identite des 1 sur la diagonale et des o partout ailleurs\"\"\"\n",
    "    return 1 if i == j else 0\n"
   ]
  },
  {
   "cell_type": "code",
   "execution_count": 17,
   "id": "15bc387a",
   "metadata": {},
   "outputs": [
    {
     "data": {
      "text/plain": [
       "[[1, 0, 0, 0, 0],\n",
       " [0, 1, 0, 0, 0],\n",
       " [0, 0, 1, 0, 0],\n",
       " [0, 0, 0, 1, 0],\n",
       " [0, 0, 0, 0, 1]]"
      ]
     },
     "execution_count": 17,
     "metadata": {},
     "output_type": "execute_result"
    }
   ],
   "source": [
    "identity_matrix = make_matrix(5, 5, is_diagonal)\n",
    "identity_matrix\n"
   ]
  },
  {
   "cell_type": "markdown",
   "id": "c8513ed5",
   "metadata": {},
   "source": [
    "### Statistique"
   ]
  },
  {
   "cell_type": "code",
   "execution_count": 18,
   "id": "a410c51e",
   "metadata": {},
   "outputs": [],
   "source": [
    "def mean(x):\n",
    "    \"\"\"Calculons la moyenne\"\"\"\n",
    "    return sum(x) / len(x)\n"
   ]
  },
  {
   "cell_type": "code",
   "execution_count": 19,
   "id": "bc4cedfc",
   "metadata": {},
   "outputs": [],
   "source": [
    "def mediane(v):\n",
    "    \"\"\"Trouvons la valeur la plus au milieu de v\"\"\"\n",
    "    n = len(v)\n",
    "    sorted_v = sorted(v)\n",
    "    midpoint = n // 2\n",
    "    if n % 2 == 1:\n",
    "        # si impair, retournons la valeur du milieu\n",
    "        return sorted_v[midpoint]\n",
    "    else:\n",
    "        # si pair, retournons la valeur du milieu\n",
    "        lo = midpoint - 1\n",
    "        hi = midpoint\n",
    "        return (sorted_v[lo] + sorted_v[hi]) / 2\n"
   ]
  },
  {
   "cell_type": "code",
   "execution_count": 20,
   "id": "d0b0585c",
   "metadata": {},
   "outputs": [],
   "source": [
    "def quantile(x, p):\n",
    "    \"\"\"Trouvons le percentile peme dans x\"\"\"\n",
    "    p_index = int(p * len(x))\n",
    "    return sorted(x)[p_index]\n"
   ]
  },
  {
   "cell_type": "code",
   "execution_count": 21,
   "id": "868540f1",
   "metadata": {},
   "outputs": [],
   "source": [
    "from collections import Counter\n"
   ]
  },
  {
   "cell_type": "code",
   "execution_count": 22,
   "id": "caa835e2",
   "metadata": {},
   "outputs": [],
   "source": [
    "def mode(x):\n",
    "    \"\"\"Retournons une liste, peut concerner plus d'un mode\"\"\"\n",
    "    counts = Counter(x)\n",
    "    max_counter = max(counts.values())\n",
    "    return [x_i for x_i, count in counts.items() if count == max_counter]\n"
   ]
  },
  {
   "cell_type": "code",
   "execution_count": 23,
   "id": "333ccf9d",
   "metadata": {},
   "outputs": [],
   "source": [
    "def data_range(x):\n",
    "    \"\"\"Nous retournons la dispersion\"\"\"\n",
    "    return max(x) - min(x)\n"
   ]
  },
  {
   "cell_type": "code",
   "execution_count": 24,
   "id": "41951cef",
   "metadata": {},
   "outputs": [],
   "source": [
    "def de_mean(x):\n",
    "    \"\"\"Fait glisser x en retranchant sa moyenne (de sorte que le resultat donne la moyenne 0)\"\"\"\n",
    "    x_bar = mean(x)\n",
    "    return [x_i - x_bar for x_i in x]\n"
   ]
  },
  {
   "cell_type": "code",
   "execution_count": 25,
   "id": "1f2b5d73",
   "metadata": {},
   "outputs": [],
   "source": [
    "def variance(x):\n",
    "    \"\"\"Suppose que x a au moins deux elements\"\"\"\n",
    "    n = len(x)\n",
    "    deviations = de_mean(x)\n",
    "    return sum_of_squares(deviations) / (n-1)\n"
   ]
  },
  {
   "cell_type": "code",
   "execution_count": 26,
   "id": "3601e5ee",
   "metadata": {},
   "outputs": [],
   "source": [
    "def standard_deviation(x):\n",
    "    \"\"\"Retournons l'ecart-type\"\"\"\n",
    "    return math.sqrt(variance(x))\n"
   ]
  },
  {
   "cell_type": "code",
   "execution_count": 27,
   "id": "08d470c2",
   "metadata": {},
   "outputs": [],
   "source": [
    "def interquartile_range(x):\n",
    "    \"\"\"Retournons la differences entre les valeurs\"\"\"\n",
    "    return quantile(x, 0.75) - quantile(x, 0.25)\n"
   ]
  },
  {
   "cell_type": "code",
   "execution_count": 28,
   "id": "68a4e896",
   "metadata": {},
   "outputs": [],
   "source": [
    "def covariance(x, y):\n",
    "    n = len(x)\n",
    "    return dot(de_mean(x), de_mean(y)) / (n - 1)\n"
   ]
  },
  {
   "cell_type": "code",
   "execution_count": 29,
   "id": "0f282ce1",
   "metadata": {},
   "outputs": [],
   "source": [
    "def correlation(x, y):\n",
    "    stdev_x = standard_deviation(x)\n",
    "    stdev_y = standard_deviation(y)\n",
    "    if stdev_x > 0 and stdev_y > 0:\n",
    "        return covariance(x, y) / stdev_x / stdev_y\n",
    "    else:\n",
    "        return 0\n",
    "    "
   ]
  },
  {
   "cell_type": "markdown",
   "id": "ca65f5fb",
   "metadata": {},
   "source": [
    "#### Chausse-trappes"
   ]
  },
  {
   "cell_type": "code",
   "execution_count": 30,
   "id": "59db8d4b",
   "metadata": {},
   "outputs": [],
   "source": [
    "x = [-2, -1, 0, 1, 2]\n",
    "y = [2, 1, 0, 1, 2]\n"
   ]
  },
  {
   "cell_type": "code",
   "execution_count": 31,
   "id": "5c1197b9",
   "metadata": {},
   "outputs": [
    {
     "data": {
      "text/plain": [
       "0.0"
      ]
     },
     "execution_count": 31,
     "metadata": {},
     "output_type": "execute_result"
    }
   ],
   "source": [
    "mean(x)\n"
   ]
  },
  {
   "cell_type": "code",
   "execution_count": 32,
   "id": "701b327f",
   "metadata": {},
   "outputs": [
    {
     "data": {
      "text/plain": [
       "1.2"
      ]
     },
     "execution_count": 32,
     "metadata": {},
     "output_type": "execute_result"
    }
   ],
   "source": [
    "mean(y)\n"
   ]
  },
  {
   "cell_type": "code",
   "execution_count": 33,
   "id": "570fb13a",
   "metadata": {},
   "outputs": [],
   "source": [
    "x = [-2, -1, 0, 1, 2]\n",
    "y = [99.98, 99.99, 100, 100.01, 100.02]\n"
   ]
  },
  {
   "cell_type": "code",
   "execution_count": 34,
   "id": "83650685",
   "metadata": {},
   "outputs": [
    {
     "data": {
      "text/plain": [
       "0.0"
      ]
     },
     "execution_count": 34,
     "metadata": {},
     "output_type": "execute_result"
    }
   ],
   "source": [
    "mean(x)\n"
   ]
  },
  {
   "cell_type": "code",
   "execution_count": 35,
   "id": "b5a8dea8",
   "metadata": {},
   "outputs": [
    {
     "data": {
      "text/plain": [
       "100.0"
      ]
     },
     "execution_count": 35,
     "metadata": {},
     "output_type": "execute_result"
    }
   ],
   "source": [
    "mean(y)\n"
   ]
  },
  {
   "cell_type": "code",
   "execution_count": 36,
   "id": "d4cccea6",
   "metadata": {},
   "outputs": [],
   "source": [
    "# page 81\n"
   ]
  },
  {
   "cell_type": "markdown",
   "id": "d0246fd7",
   "metadata": {},
   "source": [
    "### Correlation et Causalite\n",
    "- quand ont parle de causalite c'est une manier de dire que une situation provient d'un autre et que sans cela il aurait pas de cause a un fait\n",
    "- la `correlation` est une maniere dire que un evenement correspond a un evenement donner"
   ]
  },
  {
   "cell_type": "code",
   "execution_count": null,
   "id": "3fe9df23",
   "metadata": {},
   "outputs": [],
   "source": []
  },
  {
   "cell_type": "markdown",
   "id": "5df13083",
   "metadata": {},
   "source": [
    "### Probabilites\n",
    "- les lois de probabilite, si vraies en general, si fallacieuses en particulier"
   ]
  },
  {
   "cell_type": "code",
   "execution_count": 37,
   "id": "bf151646",
   "metadata": {},
   "outputs": [],
   "source": [
    "import random\n"
   ]
  },
  {
   "cell_type": "code",
   "execution_count": 38,
   "id": "1e3c6b7b",
   "metadata": {},
   "outputs": [
    {
     "name": "stdout",
     "output_type": "stream",
     "text": [
      "P(both | older): 0.4949290060851927\n",
      "P(both | either): 0.32232496697490093\n"
     ]
    }
   ],
   "source": [
    "def random_kid():\n",
    "    return random.choice([\"boy\", \"girl\"])\n",
    "\n",
    "both_girls = 0\n",
    "older_girl = 0\n",
    "either_girl = 0\n",
    "\n",
    "random.seed(0)\n",
    "for _ in range(1000):\n",
    "    younger = random_kid()\n",
    "    older = random_kid()\n",
    "    if older == \"girl\":\n",
    "        older_girl += 1\n",
    "    if older == \"girl\" and younger == \"girl\":\n",
    "        both_girls += 1\n",
    "    if older == \"girl\" or younger == \"girl\":\n",
    "        either_girl += 1\n",
    "\n",
    "print(\"P(both | older):\", both_girls / older_girl)\n",
    "print(\"P(both | either):\", both_girls / either_girl)\n"
   ]
  },
  {
   "cell_type": "markdown",
   "id": "26f5a56d",
   "metadata": {},
   "source": [
    "### Le theoreme de Bayes"
   ]
  },
  {
   "cell_type": "code",
   "execution_count": 39,
   "id": "c5de5cc3",
   "metadata": {},
   "outputs": [],
   "source": [
    "def uniform_cdf(x):\n",
    "    \"\"\"Retournons la probabilite q'une distribution aleatoire est <= x\"\"\"\n",
    "    if x < 0:\n",
    "        return 0\n",
    "    elif x < 1:\n",
    "        return x\n",
    "    else:\n",
    "        return 1\n"
   ]
  },
  {
   "cell_type": "markdown",
   "id": "10b650ce",
   "metadata": {},
   "source": [
    "### Distribution normale"
   ]
  },
  {
   "cell_type": "code",
   "execution_count": 40,
   "id": "200d468e",
   "metadata": {},
   "outputs": [],
   "source": [
    "def normal_pdf(x, mu=0, sigma=1):\n",
    "    sqrt_two_pi = math.sqrt(2 * math.pi)\n",
    "    return (math.exp(-(x-mu) ** 2 / 2 / sigma ** 2) / (sqrt_two_pi * sigma))\n"
   ]
  },
  {
   "cell_type": "code",
   "execution_count": 41,
   "id": "f6a8b4f0",
   "metadata": {},
   "outputs": [],
   "source": [
    "import matplotlib.pyplot as plt\n"
   ]
  },
  {
   "cell_type": "code",
   "execution_count": 42,
   "id": "275730ab",
   "metadata": {},
   "outputs": [
    {
     "data": {
      "image/png": "[encoded data removed]",
      "text/plain": [
       "<Figure size 640x480 with 1 Axes>"
      ]
     },
     "metadata": {},
     "output_type": "display_data"
    }
   ],
   "source": [
    "xs = [x / 10.0 for x in range(-50, 50)]\n",
    "plt.plot(xs, [normal_pdf(x, sigma=1) for x in xs], '-', label='mu=0,sigma=1')\n",
    "plt.plot(xs, [normal_pdf(x, sigma=2) for x in xs], '--', label='mu=0,sigma=2')\n",
    "plt.plot(xs, [normal_pdf(x, sigma=0.5) for x in xs], ':', label='mu=0,sigma=0.5')\n",
    "plt.plot(xs, [normal_pdf(x, mu=-1) for x in xs], '-.', label='mu=-1,sigma=1')\n",
    "plt.legend()\n",
    "plt.title(\"Exemples de distributions normales\")\n",
    "plt.show()\n"
   ]
  },
  {
   "cell_type": "markdown",
   "id": "e6ac6702",
   "metadata": {},
   "source": [
    "### loi normal standard"
   ]
  },
  {
   "cell_type": "code",
   "execution_count": 43,
   "id": "e9c4facf",
   "metadata": {},
   "outputs": [],
   "source": [
    "def normal_cdf(x, mu=0, sigma=1):\n",
    "    if sigma == 0:\n",
    "        raise ValueError(\"L'écart-type (sigma) ne peut pas être nul\")\n",
    "    return (1 + math.erf((x - mu) / (sigma * math.sqrt(2)))) / 2\n",
    "\n"
   ]
  },
  {
   "cell_type": "code",
   "execution_count": 44,
   "id": "60b53973",
   "metadata": {},
   "outputs": [
    {
     "data": {
      "image/png": "[encoded data removed]",
      "text/plain": [
       "<Figure size 640x480 with 1 Axes>"
      ]
     },
     "metadata": {},
     "output_type": "display_data"
    }
   ],
   "source": [
    "xs = [x / 10.0 for x in range(-50, 50)]\n",
    "plt.plot(xs, [normal_cdf(x, sigma=1) for x in xs], '-', label='mu=0,sigma=1')\n",
    "plt.plot(xs, [normal_cdf(x, sigma=2) for x in xs], '--', label='mu=0,sigma=2')\n",
    "plt.plot(xs, [normal_cdf(x, sigma=0.5) for x in xs], ':', label='mu=0,sigma=0.5')\n",
    "plt.plot(xs, [normal_cdf(x, mu=-1) for x in xs], '-.', label='mu=-1,sigma=1')\n",
    "plt.legend(loc=4)\n",
    "plt.title(\"Exemples de cdf normales\")\n",
    "plt.show()\n"
   ]
  },
  {
   "cell_type": "code",
   "execution_count": 45,
   "id": "04ce8930",
   "metadata": {},
   "outputs": [],
   "source": [
    "def inverse_normal_cdf(p, mu=0, sigma=1, tolerance=0.00001):\n",
    "    \"\"\"Trouvons l'inverse approximatif par une recherche par dichotomie\"\"\"\n",
    "\n",
    "    # si non standard, calculer le standard et redefinir l'echelle\n",
    "    if mu != 0 or sigma != 1:\n",
    "        return mu + sigma * inverse_normal_cdf(p, tolerance=tolerance)\n",
    "    \n",
    "    low_z = -10.0\n",
    "    hi_z = 10.0\n",
    "    while hi_z - low_z > tolerance:\n",
    "        mid_z = (low_z + hi_z) / 2\n",
    "        mid_p = normal_cdf(mid_z)\n",
    "        if mid_p < p:\n",
    "            # point median est encore trop bas, chercher au-dessus\n",
    "            low_z = mid_z\n",
    "        elif mid_p > p:\n",
    "            # le point median est encore trop haut, chercher en dessous\n",
    "            hi_z = mid_z\n",
    "        else:\n",
    "            break\n",
    "    return mid_z\n"
   ]
  },
  {
   "cell_type": "markdown",
   "id": "7c899aa5",
   "metadata": {},
   "source": [
    "### Le Theoreme de la limite centrale"
   ]
  },
  {
   "cell_type": "code",
   "execution_count": 46,
   "id": "fd4fbc27",
   "metadata": {},
   "outputs": [],
   "source": [
    "# la Bernoulli\n",
    "def bernoulli_trial(p):\n",
    "    return 1 if random.random() < p else 0\n",
    "\n",
    "def binomial(n, p):\n",
    "    return sum(bernoulli_trial(p) for _ in range(n))\n"
   ]
  },
  {
   "cell_type": "code",
   "execution_count": 47,
   "id": "4b2e28bf",
   "metadata": {},
   "outputs": [],
   "source": [
    "def make_hist(p, n, num_points):\n",
    "    data = [binomial(n, p) for _ in range(num_points)]\n",
    "\n",
    "    # utilisont un diagramme a batons pour montrer les exemples de loi binomiale\n",
    "    histogram = Counter(data)\n",
    "    plt.bar([x - 0.4 for x in histogram.keys()],\n",
    "            [v / num_points for v in histogram.values()],\n",
    "            0.8, color='0.75')\n",
    "    mu = p * n\n",
    "    sigma = math.sqrt(n * p * (1 - p))\n",
    "\n",
    "    # utiliser une courbe pour montrer l'approximation de la loi normale\n",
    "    xs = range(min(data), max(data) + 1)\n",
    "    ys = [normal_cdf(i + 0.5, mu, sigma) - normal_cdf(i - 0.5, mu, sigma) for i in xs]\n",
    "    plt.title(\"Distribution binomiale comparee a approximation normale\")\n",
    "    plt.show()\n"
   ]
  },
  {
   "cell_type": "code",
   "execution_count": 48,
   "id": "64fb6dc7",
   "metadata": {},
   "outputs": [
    {
     "data": {
      "image/png": "[encoded data removed]",
      "text/plain": [
       "<Figure size 640x480 with 1 Axes>"
      ]
     },
     "metadata": {},
     "output_type": "display_data"
    }
   ],
   "source": [
    "make_hist(0.75, 100, 10000)\n"
   ]
  },
  {
   "cell_type": "markdown",
   "id": "90b28e95",
   "metadata": {},
   "source": [
    "### Satistique: Hypothese et inference"
   ]
  },
  {
   "cell_type": "code",
   "execution_count": 49,
   "id": "96ad57c6",
   "metadata": {},
   "outputs": [],
   "source": [
    "def normal_approximation_to_binomial(n, p):\n",
    "    \"\"\"Trouvons mu et sigma correspondant a Binomiale(n, p)\"\"\"\n",
    "    mu = p * n\n",
    "    sigma = math.sqrt(p * (1 - p) * n)\n",
    "    return mu, sigma\n"
   ]
  },
  {
   "cell_type": "code",
   "execution_count": 50,
   "id": "05f46723",
   "metadata": {},
   "outputs": [],
   "source": [
    "# le cdf normal est la probabilite que la variable soit en dessous d'un seuil\n",
    "normal_probability_below = normal_cdf\n"
   ]
  },
  {
   "cell_type": "code",
   "execution_count": 51,
   "id": "1cc8aaad",
   "metadata": {},
   "outputs": [],
   "source": [
    "# au-dessus du seuil si elle n'est pas sous le seuil\n",
    "def normal_probability_above(lo, mu=0, sigma=1):\n",
    "    return 1 - normal_cdf(lo, mu, sigma)\n"
   ]
  },
  {
   "cell_type": "code",
   "execution_count": 52,
   "id": "5ee547e2",
   "metadata": {},
   "outputs": [],
   "source": [
    "# entre les deux si inferieure a hi, mais pas inferieure a lo\n",
    "def normal_probability_between(lo, hi, mu=0, sigma=1):\n",
    "    return normal_cdf(hi, mu, sigma) - normal_cdf(lo, mu, sigma)\n"
   ]
  },
  {
   "cell_type": "code",
   "execution_count": 53,
   "id": "f319554c",
   "metadata": {},
   "outputs": [],
   "source": [
    "# a l'exterieur si elle n'est pas entre les deux \n",
    "def normal_probability_outside(lo, hi, mu=0, sigma=1):\n",
    "    return 1 - normal_probability_between(lo, hi, mu, sigma)\n"
   ]
  },
  {
   "cell_type": "code",
   "execution_count": 54,
   "id": "1bb88129",
   "metadata": {},
   "outputs": [],
   "source": [
    "def norma_upper_bound(probability, mu=0, sigma=1):\n",
    "    \"\"\"retourne la valeur de z pour laquelle P(Z <= z) = probabilite\"\"\"\n",
    "    return inverse_normal_cdf(probability, mu, sigma)\n"
   ]
  },
  {
   "cell_type": "code",
   "execution_count": 55,
   "id": "ab0d5694",
   "metadata": {},
   "outputs": [],
   "source": [
    "def normal_lower_bound(probability, mu=0, sigma=1):\n",
    "    \"\"\"retourne la valeur z pour laquelle P(Z >= z) = probabilite\"\"\"\n",
    "    return inverse_normal_cdf(1 -probability, mu, sigma)\n"
   ]
  },
  {
   "cell_type": "code",
   "execution_count": 56,
   "id": "b02ce67d",
   "metadata": {},
   "outputs": [],
   "source": [
    "def normal_two_sided_bounds(probability, mu=0, sigma=1):\n",
    "    \"\"\"retourne les limites symetriques (par rapport a la moyenne) qui contiennent la probabilite specifique\"\"\"\n",
    "    tail_probability = (1 - probability) / 2\n",
    "\n",
    "    # pour la limite superieure, tail_probability doit etre en dessus\n",
    "    upper_bound = normal_lower_bound(tail_probability, mu, sigma)\n",
    "\n",
    "    # pour la limite inferieure, tail_probability doit etre en dessous\n",
    "    lower_bound = norma_upper_bound(tail_probability, mu, sigma)\n",
    "\n",
    "    return lower_bound, upper_bound\n"
   ]
  },
  {
   "cell_type": "code",
   "execution_count": 57,
   "id": "d2c510e4",
   "metadata": {},
   "outputs": [
    {
     "name": "stdout",
     "output_type": "stream",
     "text": [
      "Approximation esperance:  500.0 Ecart-type:  15.811388300841896\n"
     ]
    }
   ],
   "source": [
    "mu_0, sigma_0 = normal_approximation_to_binomial(1000, 0.5)\n",
    "print(\"Approximation esperance: \", mu_0, \"Ecart-type: \", sigma_0)\n"
   ]
  },
  {
   "cell_type": "code",
   "execution_count": 58,
   "id": "202af5f3",
   "metadata": {},
   "outputs": [
    {
     "data": {
      "text/plain": [
       "(469.01026640487555, 530.9897335951244)"
      ]
     },
     "execution_count": 58,
     "metadata": {},
     "output_type": "execute_result"
    }
   ],
   "source": [
    "normal_two_sided_bounds(0.95, mu_0, sigma_0)\n"
   ]
  },
  {
   "cell_type": "code",
   "execution_count": 59,
   "id": "56fca115",
   "metadata": {},
   "outputs": [
    {
     "name": "stdout",
     "output_type": "stream",
     "text": [
      "hypothese que p vaut 0.5:  469.01026640487555 530.9897335951244\n"
     ]
    }
   ],
   "source": [
    "# les limites a 95% sur la base de l'hypothese que p vaut 0.5\n",
    "lo, hi = normal_two_sided_bounds(0.95, mu_0, sigma_0)\n",
    "print(\"hypothese que p vaut 0.5: \",lo, hi)\n",
    "\n",
    "# mu et sigma sur la base de p = 0.55\n",
    "mu_1, sigm_1 = normal_approximation_to_binomial(1000, 0.55)\n",
    "\n",
    "# une erreur de type 2 signifie que nous n'avons pas reussi a rejeter l'hypothese nulle\n",
    "# ce qui se produira quand X est encore dans notre intervalle d'origine (calcule sur la base de p = 0.5)\n",
    "type_2_probability = normal_probability_between(lo, hi, mu_1, sigm_1)\n",
    "power = 1 - type_2_probability\n"
   ]
  },
  {
   "cell_type": "code",
   "execution_count": 60,
   "id": "c34dec32",
   "metadata": {},
   "outputs": [],
   "source": [
    "hi = norma_upper_bound(0.95, mu_0, sigma_0)\n"
   ]
  },
  {
   "cell_type": "code",
   "execution_count": 61,
   "id": "a7a78d45",
   "metadata": {},
   "outputs": [
    {
     "data": {
      "text/plain": [
       "526.0073585242053"
      ]
     },
     "execution_count": 61,
     "metadata": {},
     "output_type": "execute_result"
    }
   ],
   "source": [
    "hi\n"
   ]
  },
  {
   "cell_type": "code",
   "execution_count": 62,
   "id": "d2b60eaa",
   "metadata": {},
   "outputs": [],
   "source": [
    "type_2_probability = normal_probability_below(hi, mu_1, sigm_1)\n",
    "power = 1 -type_2_probability\n"
   ]
  },
  {
   "cell_type": "code",
   "execution_count": 63,
   "id": "ecb62503",
   "metadata": {},
   "outputs": [
    {
     "data": {
      "text/plain": [
       "0.9363794803307173"
      ]
     },
     "execution_count": 63,
     "metadata": {},
     "output_type": "execute_result"
    }
   ],
   "source": [
    "power\n"
   ]
  },
  {
   "cell_type": "markdown",
   "id": "535c5ad9",
   "metadata": {},
   "source": [
    "### P-value"
   ]
  },
  {
   "cell_type": "code",
   "execution_count": 64,
   "id": "daa7e934",
   "metadata": {},
   "outputs": [],
   "source": [
    "def two_side_p_value(x, mu=0, sigma=1):\n",
    "    if x >= mu:\n",
    "        # si x est plus grand que l'esperance, la queue de distribution est ce qui est superieur a x\n",
    "        return 2 * normal_probability_above(x, mu, sigma)\n",
    "    else:\n",
    "        # si x est inferieur a l'esperance, la queue de distribution est ce qui est inferieur\n",
    "        # a x\n",
    "        return 2 * normal_probability_below(x, mu, sigma)\n"
   ]
  },
  {
   "cell_type": "code",
   "execution_count": 65,
   "id": "42134eb9",
   "metadata": {},
   "outputs": [
    {
     "data": {
      "text/plain": [
       "0.06207721579598835"
      ]
     },
     "execution_count": 65,
     "metadata": {},
     "output_type": "execute_result"
    }
   ],
   "source": [
    "two_side_p_value(529.5, mu_0, sigma_0)\n"
   ]
  },
  {
   "cell_type": "code",
   "execution_count": 66,
   "id": "87a5d326",
   "metadata": {},
   "outputs": [],
   "source": [
    "upper_p_value = normal_probability_above\n",
    "lowe_p_value = normal_probability_below\n"
   ]
  },
  {
   "cell_type": "code",
   "execution_count": 67,
   "id": "09c0c6ba",
   "metadata": {},
   "outputs": [
    {
     "data": {
      "text/plain": [
       "0.06062885772582072"
      ]
     },
     "execution_count": 67,
     "metadata": {},
     "output_type": "execute_result"
    }
   ],
   "source": [
    "upper_p_value(524.5, mu_0, sigma_0)\n"
   ]
  },
  {
   "cell_type": "code",
   "execution_count": 68,
   "id": "77079ddd",
   "metadata": {},
   "outputs": [
    {
     "data": {
      "text/plain": [
       "0.04686839508859242"
      ]
     },
     "execution_count": 68,
     "metadata": {},
     "output_type": "execute_result"
    }
   ],
   "source": [
    "upper_p_value(526.5, mu_0, sigma_0)\n"
   ]
  },
  {
   "cell_type": "markdown",
   "id": "cee0f73b",
   "metadata": {},
   "source": [
    "### L'intervalle de confiance"
   ]
  },
  {
   "cell_type": "code",
   "execution_count": 69,
   "id": "6cd0f9ff",
   "metadata": {},
   "outputs": [],
   "source": [
    "p_hat = 525 / 1000\n",
    "mu = p_hat\n",
    "sigma = math.sqrt(p_hat * (1 - p_hat) / 1000)\n"
   ]
  },
  {
   "cell_type": "code",
   "execution_count": 70,
   "id": "8bd2b7b6",
   "metadata": {},
   "outputs": [
    {
     "data": {
      "text/plain": [
       "0.015791611697353755"
      ]
     },
     "execution_count": 70,
     "metadata": {},
     "output_type": "execute_result"
    }
   ],
   "source": [
    "sigma\n"
   ]
  },
  {
   "cell_type": "code",
   "execution_count": 71,
   "id": "e94b5585",
   "metadata": {},
   "outputs": [
    {
     "data": {
      "text/plain": [
       "(0.4940490278129096, 0.5559509721870904)"
      ]
     },
     "execution_count": 71,
     "metadata": {},
     "output_type": "execute_result"
    }
   ],
   "source": [
    "normal_two_sided_bounds(0.95, mu, sigma)\n"
   ]
  },
  {
   "cell_type": "code",
   "execution_count": 72,
   "id": "ab1afe54",
   "metadata": {},
   "outputs": [
    {
     "data": {
      "text/plain": [
       "(0.5091095927295919, 0.5708904072704082)"
      ]
     },
     "execution_count": 72,
     "metadata": {},
     "output_type": "execute_result"
    }
   ],
   "source": [
    "p_hat = 540 / 1000\n",
    "mu = p_hat\n",
    "sigma = math.sqrt(p_hat * (1 - p_hat)/ 1000)\n",
    "normal_two_sided_bounds(0.95, mu, sigma)\n"
   ]
  },
  {
   "cell_type": "markdown",
   "id": "9a62d332",
   "metadata": {},
   "source": [
    "### P-Hacking"
   ]
  },
  {
   "cell_type": "code",
   "execution_count": 73,
   "id": "543cb2c5",
   "metadata": {},
   "outputs": [],
   "source": [
    "def rund_experiment():\n",
    "    \"\"\"Lancer une piece non truquee 1000 fois, Vrai = face, Faux = pile\"\"\"\n",
    "    return [random.random() < 0.5 for _ in range(1000)]\n"
   ]
  },
  {
   "cell_type": "code",
   "execution_count": 74,
   "id": "419532a8",
   "metadata": {},
   "outputs": [
    {
     "name": "stdout",
     "output_type": "stream",
     "text": [
      "46\n"
     ]
    }
   ],
   "source": [
    "def reject_fairness(experiment):\n",
    "    \"\"\"utilisation des niveaux de signification de 5%\"\"\"\n",
    "    num_heads = len([flip for flip in experiment if flip])\n",
    "\n",
    "    return num_heads < 469 or num_heads > 531\n",
    "\n",
    "random.seed(0)\n",
    "experiments = [rund_experiment() for _ in range(1000)]\n",
    "num_rejections = len([\n",
    "    experiment for experiment in experiments if reject_fairness(experiment)])\n",
    "print(num_rejections)\n"
   ]
  },
  {
   "cell_type": "markdown",
   "id": "36e924bc",
   "metadata": {},
   "source": [
    "### Effectuer un test A/B"
   ]
  },
  {
   "cell_type": "code",
   "execution_count": 75,
   "id": "2db1640b",
   "metadata": {},
   "outputs": [],
   "source": [
    "def estimation_parameters(N, n):\n",
    "    p = n / N\n",
    "    sigma = math.sqrt(p * (1 - p) / N)\n",
    "    return p, sigma\n"
   ]
  },
  {
   "cell_type": "code",
   "execution_count": 76,
   "id": "a7f0aa8a",
   "metadata": {},
   "outputs": [],
   "source": [
    "def a_b_test_statistic(N_A, n_A, N_B, n_B):\n",
    "    p_A, sigma_A = estimation_parameters(N_A, n_A)\n",
    "    p_B, sigma_B = estimation_parameters(N_B, n_B)\n",
    "    return (p_B - p_A) / math.sqrt(sigma_A ** 2 + sigma_B ** 2)\n"
   ]
  },
  {
   "cell_type": "code",
   "execution_count": 77,
   "id": "2fcfd1a5",
   "metadata": {},
   "outputs": [],
   "source": [
    "z = a_b_test_statistic(1000, 200, 1000, 180)\n"
   ]
  },
  {
   "cell_type": "code",
   "execution_count": 78,
   "id": "1363d218",
   "metadata": {},
   "outputs": [
    {
     "data": {
      "text/plain": [
       "-1.1403464899034472"
      ]
     },
     "execution_count": 78,
     "metadata": {},
     "output_type": "execute_result"
    }
   ],
   "source": [
    "z\n"
   ]
  },
  {
   "cell_type": "code",
   "execution_count": 79,
   "id": "1a5fb0a1",
   "metadata": {},
   "outputs": [
    {
     "data": {
      "text/plain": [
       "0.254141976542236"
      ]
     },
     "execution_count": 79,
     "metadata": {},
     "output_type": "execute_result"
    }
   ],
   "source": [
    "two_side_p_value(z)\n"
   ]
  },
  {
   "cell_type": "code",
   "execution_count": 80,
   "id": "ac4c3061",
   "metadata": {},
   "outputs": [
    {
     "data": {
      "text/plain": [
       "0.003189699706216853"
      ]
     },
     "execution_count": 80,
     "metadata": {},
     "output_type": "execute_result"
    }
   ],
   "source": [
    "z = a_b_test_statistic(1000, 200, 1000, 150)\n",
    "two_side_p_value(z)\n"
   ]
  },
  {
   "cell_type": "markdown",
   "id": "e2ac2c5d",
   "metadata": {},
   "source": [
    "### L'inference de bayesienne"
   ]
  },
  {
   "cell_type": "code",
   "execution_count": 81,
   "id": "10c726b6",
   "metadata": {},
   "outputs": [],
   "source": [
    "def B(alpha, beta):\n",
    "    \"\"\"une constante de normalisation pour que la probabilite totale soit 1\"\"\"\n",
    "    return math.gamma(alpha) * math.gamma(beta) / math.gamma(alpha + beta)\n"
   ]
  },
  {
   "cell_type": "code",
   "execution_count": 82,
   "id": "59aafaef",
   "metadata": {},
   "outputs": [],
   "source": [
    "def beta_pdf(x, alpha, beta):\n",
    "    if x <= 0 or x >= 1:\n",
    "        return 0\n",
    "    return x ** (alpha - 1) * (1  - x) ** (beta - 1) / B(alpha, beta)\n"
   ]
  },
  {
   "cell_type": "markdown",
   "id": "0a02dfcd",
   "metadata": {},
   "source": [
    "* `Note`\n",
    "- le fait que la distribution a posteriori suive la loi beta n'a rien d'une coincidence. Le nombre de retombees `face` est donne par une distribution binomiale et la loi beta est le conjugue a priori de la distribution binomiale. En d'autres termes, quand vous mettez a jour une beta a priori enn utilisant des observations de la binomiale correspondante, vous retournez la beta a posteriori"
   ]
  },
  {
   "cell_type": "markdown",
   "id": "576ca247",
   "metadata": {},
   "source": [
    "## Descente de gradient\n",
    "`note:` Se vanter de qui on descend revient a se vanter de ce qu'on doit aux autres"
   ]
  },
  {
   "cell_type": "code",
   "execution_count": 83,
   "id": "936ad469",
   "metadata": {},
   "outputs": [],
   "source": [
    "def sum_of_squares(v):\n",
    "    \"\"\"Calculons la sommes des carres des elements dans v\"\"\"\n",
    "    return sum(v_i ** 2 for v_i in v)\n"
   ]
  },
  {
   "cell_type": "code",
   "execution_count": 84,
   "id": "22176101",
   "metadata": {},
   "outputs": [],
   "source": [
    "v = [1, 2, 3, 4]\n"
   ]
  },
  {
   "cell_type": "code",
   "execution_count": 85,
   "id": "e972aa41",
   "metadata": {},
   "outputs": [
    {
     "data": {
      "text/plain": [
       "10"
      ]
     },
     "execution_count": 85,
     "metadata": {},
     "output_type": "execute_result"
    }
   ],
   "source": [
    "sum(v)\n"
   ]
  },
  {
   "cell_type": "markdown",
   "id": "7a4b2048",
   "metadata": {},
   "source": [
    "* `Note`:\n",
    "- Si une fonction possede un unique global, cette procedure le trouvera certainement. Si une fonction possede plusieurs minima locaux, la procedure pourrait conduire a designer celui qui n'est pas le minimum global; dans le cas, il faut recommencer a partir de differents points de depart. Si une fonction ne possede pas de minimum, la procedure peut se poursuivre sans fin."
   ]
  },
  {
   "cell_type": "markdown",
   "id": "62c7d45f",
   "metadata": {},
   "source": [
    "### Estimation du gradient"
   ]
  },
  {
   "cell_type": "code",
   "execution_count": 86,
   "id": "184ee41a",
   "metadata": {},
   "outputs": [],
   "source": [
    "def difference_quotient(f, x, h):\n",
    "    return (f(x + h) - f(x)) / h\n"
   ]
  },
  {
   "cell_type": "code",
   "execution_count": 87,
   "id": "1ce4e2d8",
   "metadata": {},
   "outputs": [],
   "source": [
    "def square(x):\n",
    "    return x * x\n"
   ]
  },
  {
   "cell_type": "code",
   "execution_count": 88,
   "id": "a3f6b6b8",
   "metadata": {},
   "outputs": [],
   "source": [
    "def derivative(x):\n",
    "    return 2 * x\n"
   ]
  },
  {
   "cell_type": "code",
   "execution_count": 89,
   "id": "f1470fde",
   "metadata": {},
   "outputs": [],
   "source": [
    "from re import *\n"
   ]
  },
  {
   "cell_type": "code",
   "execution_count": 90,
   "id": "12de455d",
   "metadata": {},
   "outputs": [],
   "source": [
    "from functools import partial\n"
   ]
  },
  {
   "cell_type": "code",
   "execution_count": 91,
   "id": "8c031885",
   "metadata": {},
   "outputs": [],
   "source": [
    "derivative_estimate = partial(difference_quotient, square, h=0.00001)\n"
   ]
  },
  {
   "cell_type": "code",
   "execution_count": 92,
   "id": "fa9c4895",
   "metadata": {},
   "outputs": [
    {
     "data": {
      "image/png": "[encoded data removed]",
      "text/plain": [
       "<Figure size 640x480 with 1 Axes>"
      ]
     },
     "metadata": {},
     "output_type": "display_data"
    }
   ],
   "source": [
    "# graphique pour prouver que ce sont fondamental les memes\n",
    "x = range(-10, 10)\n",
    "plt.title(\"Derivee reelles comparees aux estimations\")\n",
    "plt.plot(x, list(map(derivative, x)), 'rx', label=\"Actual\")\n",
    "plt.plot(x, list(map(derivative_estimate, x)), 'b+', label='Estimate')\n",
    "plt.legend(loc=9)\n",
    "plt.show()\n"
   ]
  },
  {
   "cell_type": "code",
   "execution_count": 93,
   "id": "ba828a8c",
   "metadata": {},
   "outputs": [],
   "source": [
    "def partial_difference_quotient(f, v, i, h):\n",
    "    \"\"\"Calcule le ieme quotient partiel des differences de f a v\"\"\"\n",
    "    w = [v_j + (h if j == i else 0) for j, v_j in enumerate(v)] # ajoute h pour ajuster le ieme element de v\n",
    "    return (f(w) - f(v)) / h\n"
   ]
  },
  {
   "cell_type": "code",
   "execution_count": 94,
   "id": "77a793a2",
   "metadata": {},
   "outputs": [],
   "source": [
    "def estimate_gradient(f, v, h=0.00001):\n",
    "    return [partial_difference_quotient(f, v, i, h) for i, _ in enumerate(v)]\n"
   ]
  },
  {
   "cell_type": "code",
   "execution_count": 95,
   "id": "238b4d31",
   "metadata": {},
   "outputs": [],
   "source": [
    "def step(v, direction, step_size):\n",
    "    \"\"\"se deplacer de step_size dans la direction v\"\"\"\n",
    "    return [v_i + step_size * direction_i for v_i, direction_i in zip(v, direction)]\n"
   ]
  },
  {
   "cell_type": "code",
   "execution_count": 96,
   "id": "17132745",
   "metadata": {},
   "outputs": [],
   "source": [
    "def sum_of_squares_gradient(v):\n",
    "    return [2 * v_i for v_i in v]\n"
   ]
  },
  {
   "cell_type": "code",
   "execution_count": 97,
   "id": "7b5aef8e",
   "metadata": {},
   "outputs": [],
   "source": [
    "# choisir un point de depart Aléatoire \n",
    "v = [random.randint(-10, 10) for i in range(3)]\n"
   ]
  },
  {
   "cell_type": "code",
   "execution_count": 98,
   "id": "51b5d1a5",
   "metadata": {},
   "outputs": [],
   "source": [
    "tolerance = 0.0000001\n",
    "\n",
    "while True:\n",
    "    gradient = sum_of_squares_gradient(v) # calculer le gradient a v\n",
    "    next_v = step(v, gradient, -0.01) # effectuer un deplacement negatif\n",
    "    if distance(next_v, v) < tolerance: # s'Arrêter en cas de convergence\n",
    "        break\n",
    "    v = next_v\n"
   ]
  },
  {
   "cell_type": "code",
   "execution_count": 99,
   "id": "c2efb77d",
   "metadata": {},
   "outputs": [
    {
     "data": {
      "text/plain": [
       "[4.5336994434236267e-07, -2.720219666054177e-06, -4.080329499081268e-06]"
      ]
     },
     "execution_count": 99,
     "metadata": {},
     "output_type": "execute_result"
    }
   ],
   "source": [
    "v\n"
   ]
  },
  {
   "cell_type": "code",
   "execution_count": 100,
   "id": "3f56bcf0",
   "metadata": {},
   "outputs": [],
   "source": [
    "step_sizes = [100, 10, 1, 0.1, 0.01, 0.001, 0.0001, 0.00001]\n"
   ]
  },
  {
   "cell_type": "code",
   "execution_count": 101,
   "id": "8745c162",
   "metadata": {},
   "outputs": [],
   "source": [
    "def safe(f):\n",
    "    \"\"\"Retourne une nouvelle fonction qui est la Même que f,\n",
    "        a la difference Près quelle renvoie l'infini quand f produit une erreur\"\"\"\n",
    "    def safe_f(*args, **kwargs):\n",
    "        try:\n",
    "            return f(*args, **kwargs)\n",
    "        except:\n",
    "            return float('inf') # signifie \"infini\"\n",
    "    return safe_f\n"
   ]
  },
  {
   "cell_type": "markdown",
   "id": "176c9531",
   "metadata": {},
   "source": [
    "## Synthèse "
   ]
  },
  {
   "cell_type": "code",
   "execution_count": 102,
   "id": "47bab60c",
   "metadata": {},
   "outputs": [],
   "source": [
    "def minimize_batch(target_fn, gradient_fn, theta_o, tolerance=0.000001):\n",
    "    \"\"\"Utilise la descente du gradient pour trouver le theta qui minimise la fonction cible\"\"\"\n",
    "    step_sizes = [100, 10, 1, 0.1, 0.01, 0.0001, 0.00001]\n",
    "    theta = theta_o # initialise theta\n",
    "    target_fn = safe(target_fn) # version Sûre de target_fn\n",
    "    value = target_fn(theta) # valeur que nous minimisons\n",
    "\n",
    "    while True:\n",
    "        gradient  = gradient_fn(theta)\n",
    "        next_thetas = [step(theta, gradient, -step_size) for step_size in step_sizes]\n",
    "\n",
    "        # choisir celui qui minimise la fonction d'erreur\n",
    "        next_theta = min(next_thetas, key=target_fn)\n",
    "        next_value = target_fn(next_theta)\n",
    "\n",
    "        # Arrêter en cas de (convergence)\n",
    "        if abs(value - next_value) < tolerance:\n",
    "            return theta\n",
    "        else:\n",
    "            theta, value = next_theta, next_value\n"
   ]
  },
  {
   "cell_type": "code",
   "execution_count": 103,
   "id": "ee6053e3",
   "metadata": {},
   "outputs": [],
   "source": [
    "def negate(f):\n",
    "    \"\"\"Retourne une fonction qui renvoie -f(x) pour toute Entrée x\"\"\"\n",
    "    return lambda *args, **kwargs: -f(*args, ** kwargs)\n",
    "\n",
    "def negate_all(f):\n",
    "    \"\"\"La Mêmes chose quand f Retourne une liste de nombres\"\"\"\n",
    "    return lambda *args, **kwargs: [-y for y in f(*args, **kwargs)]\n",
    "\n",
    "def maximize_batch(target_fn, gradient_fn, theta_0, tolerance=0.000001):\n",
    "    return minimize_batch(negate(target_fn), negate_all(gradient_fn), theta_0, tolerance)\n"
   ]
  },
  {
   "cell_type": "markdown",
   "id": "870e19df",
   "metadata": {},
   "source": [
    "### La descente du gradient Stochastiques \n"
   ]
  },
  {
   "cell_type": "code",
   "execution_count": 104,
   "id": "162bc0f0",
   "metadata": {},
   "outputs": [],
   "source": [
    "def in_random_order(data):\n",
    "    \"\"\"Generation qui retourne les elements de Donner dans un ordre aleatoire\"\"\"\n",
    "    indexes = [i for i, _ in enumerate(data)] # Crée une liste d'index \n",
    "    random.shuffle(indexes for i in indexes)\n"
   ]
  },
  {
   "cell_type": "code",
   "execution_count": 105,
   "id": "02546fea",
   "metadata": {},
   "outputs": [],
   "source": [
    "def minimize_stochatic(target_fn, gradient_fn, x, y, theta_0, alpha_0=0.01):\n",
    "\n",
    "    data = zip(x, y)\n",
    "    theta = theta_0             # Prédiction initial\n",
    "    alpha = alpha_0             # Valeur de Déplacement initiale' \n",
    "    mini_theta, min_value = None, float(\"inf\") # le minimum jusqu'a Présent \n",
    "    iterations_with_no_improvement = 0\n",
    "\n",
    "    # Si on effectue 100 Itération sans constater d'amelioration, Arrêter\n",
    "    while iterations_with_no_improvement < 100:\n",
    "        value = sum(target_fn(x_i, y_i, theta) for x_i, y_i in data)\n",
    "\n",
    "        if value < min_value:\n",
    "            # si on a trouve un nouveau minimum, le conserver\n",
    "            # et revenir a la valeur de deplacement d'origine\n",
    "            mini_theta, min_value = theta, value\n",
    "            iterations_with_no_improvement = 0\n",
    "            alpha = alpha_0\n",
    "\n",
    "        else:\n",
    "            # sinon il n'y a pas d'amelioration, il faut donc diminuer la valeur de deplacement\n",
    "            iterations_with_no_improvement += 1\n",
    "            alpha *= 0.9\n",
    "\n",
    "            # et prendre un deplacement de la valeur du gradient pour chaque Donner Isolée \n",
    "            for x_i, y_i in in_random_order(data):\n",
    "                gradient_i = gradient_fn(x_i, y_i, theta)\n",
    "                theta = vector_substract(theta, scalar_multiply(alpha, gradient_i))\n",
    "        return mini_theta\n"
   ]
  },
  {
   "cell_type": "code",
   "execution_count": 106,
   "id": "8859dde6",
   "metadata": {},
   "outputs": [],
   "source": [
    "def maximize_stochastic(target_fn, gradient_fn, x, y, theta_0, alpha_0=0.01):\n",
    "    return minimize_stochatic(negate(target_fn), negate_all(gradient_fn), x, y, theta_0, alpha_0)\n"
   ]
  },
  {
   "cell_type": "markdown",
   "id": "c99148d5",
   "metadata": {},
   "source": [
    "### Collecte des Données "
   ]
  },
  {
   "cell_type": "code",
   "execution_count": 107,
   "id": "5aa38fe8",
   "metadata": {},
   "outputs": [],
   "source": [
    "import sys, re\n"
   ]
  },
  {
   "cell_type": "markdown",
   "id": "56cdc0db",
   "metadata": {},
   "source": [
    "- sys.argv est la liste des arguments de ligne de commande\n",
    "- sys.argv[0] est le nom du programme\n",
    "- sys.argv[1] sera le regex specifie pour la ligne de commande"
   ]
  },
  {
   "cell_type": "code",
   "execution_count": 108,
   "id": "beede5d5",
   "metadata": {},
   "outputs": [
    {
     "ename": "KeyboardInterrupt",
     "evalue": "",
     "output_type": "error",
     "traceback": [
      "\u001b[0;31m---------------------------------------------------------------------------\u001b[0m",
      "\u001b[0;31mKeyboardInterrupt\u001b[0m                         Traceback (most recent call last)",
      "Cell \u001b[0;32mIn[108], line 5\u001b[0m\n\u001b[1;32m      2\u001b[0m regex \u001b[38;5;241m=\u001b[39m sys\u001b[38;5;241m.\u001b[39margv[\u001b[38;5;241m1\u001b[39m]\n\u001b[1;32m      4\u001b[0m \u001b[38;5;66;03m# pour chaque ligne Passée dans le script\u001b[39;00m\n\u001b[0;32m----> 5\u001b[0m \u001b[38;5;28;01mfor\u001b[39;00m line \u001b[38;5;129;01min\u001b[39;00m sys\u001b[38;5;241m.\u001b[39mstdin:\n\u001b[1;32m      6\u001b[0m     \u001b[38;5;66;03m# si elle correspoau regex, l'ecrire dans stdout\u001b[39;00m\n\u001b[1;32m      7\u001b[0m     \u001b[38;5;28;01mif\u001b[39;00m re\u001b[38;5;241m.\u001b[39msearch(regex, line):\n\u001b[1;32m      8\u001b[0m         sys\u001b[38;5;241m.\u001b[39mstdout\u001b[38;5;241m.\u001b[39mwrite(line)\n",
      "\u001b[0;31mKeyboardInterrupt\u001b[0m: "
     ]
    }
   ],
   "source": [
    "# se script lire les lignes de textes et restitue celles qui corresponde a l'expression rationnelle\n",
    "regex = sys.argv[1]\n",
    "\n",
    "# pour chaque ligne Passée dans le script\n",
    "for line in sys.stdin:\n",
    "    # si elle correspoau regex, l'ecrire dans stdout\n",
    "    if re.search(regex, line):\n",
    "        sys.stdout.write(line)\n"
   ]
  },
  {
   "cell_type": "code",
   "execution_count": null,
   "id": "004a1cf3",
   "metadata": {},
   "outputs": [],
   "source": [
    "# et celle ci compte les lignes Reçu et ecrit le resultat\n",
    "import sys\n",
    "\n",
    "count = 0\n",
    "for line in sys.stdin:\n",
    "    count +=1\n",
    "\n",
    "print(count)\n"
   ]
  },
  {
   "cell_type": "markdown",
   "id": "296990c9",
   "metadata": {},
   "source": [
    "#### Voici le script complet"
   ]
  },
  {
   "cell_type": "code",
   "execution_count": null,
   "id": "fc196c4d",
   "metadata": {},
   "outputs": [],
   "source": [
    "from collections import Counter\n",
    "\n",
    "# passer le nombre de mots en premier argument\n",
    "try:\n",
    "    num_words = int(sys.argv[1])\n",
    "except:\n",
    "    print(\"usage: most_common_word\")\n",
    "    sys.exit(1) # un code non zero en sortie indique une erreur\n",
    "\n",
    "counter = Counter(word.lower() \n",
    "                  for line in sys.stdin\n",
    "                  for word in line.strip().split() # separer a partir des espaces\n",
    "                  if word)                       # sauter les mots (words) vides )\n",
    "for word, count in counter.most_common(num_words):\n",
    "    sys.stdout.write(str(count))\n",
    "    sys.stdout.write(\"\\t\")\n",
    "    sys.stdout.write(word)\n",
    "    sys.stdout.write(\"\\n\")\n"
   ]
  },
  {
   "cell_type": "markdown",
   "id": "357562e1",
   "metadata": {},
   "source": [
    "#### Lecture de fichiers\n",
    "##### Les fondamentaux des fichiers texte"
   ]
  },
  {
   "cell_type": "code",
   "execution_count": null,
   "id": "9fe2e2be",
   "metadata": {},
   "outputs": [],
   "source": [
    "# 'r' signifie lecture seule (read-only)\n",
    "file_for_reading = open('reading_file.txt', 'r')\n",
    "\n",
    "# 'w' signifie ecrire (write) - Détruit le fichier existant (append)\n",
    "file_for_appending = open('reading_file.txt', 'a')\n",
    "\n",
    "# n'ouliez pas de fermer les fichier quand vous avez fini\n",
    "file_for_appending.close()\n"
   ]
  },
  {
   "cell_type": "code",
   "execution_count": null,
   "id": "6e566e7b",
   "metadata": {},
   "outputs": [
    {
     "ename": "TypeError",
     "evalue": "'_io.TextIOWrapper' object is not callable",
     "output_type": "error",
     "traceback": [
      "\u001b[0;31m---------------------------------------------------------------------------\u001b[0m",
      "\u001b[0;31mTypeError\u001b[0m                                 Traceback (most recent call last)",
      "Cell \u001b[0;32mIn[111], line 3\u001b[0m\n\u001b[1;32m      1\u001b[0m \u001b[38;5;66;03m# comment faire en sorte de pas oulier la fermeture du fichier\u001b[39;00m\n\u001b[1;32m      2\u001b[0m \u001b[38;5;28;01mwith\u001b[39;00m \u001b[38;5;28mopen\u001b[39m(\u001b[38;5;124m'\u001b[39m\u001b[38;5;124mreading_file.txt\u001b[39m\u001b[38;5;124m'\u001b[39m, \u001b[38;5;124m'\u001b[39m\u001b[38;5;124mr\u001b[39m\u001b[38;5;124m'\u001b[39m) \u001b[38;5;28;01mas\u001b[39;00m f:\n\u001b[0;32m----> 3\u001b[0m     data \u001b[38;5;241m=\u001b[39m \u001b[43mfile_for_reading\u001b[49m\u001b[43m(\u001b[49m\u001b[43mf\u001b[49m\u001b[43m)\u001b[49m\n",
      "\u001b[0;31mTypeError\u001b[0m: '_io.TextIOWrapper' object is not callable"
     ]
    }
   ],
   "source": [
    "# comment faire en sorte de pas oulier la fermeture du fichier\n",
    "with open('reading_file.txt', 'r') as f:\n",
    "    data = file_for_reading(f)\n"
   ]
  },
  {
   "cell_type": "code",
   "execution_count": null,
   "id": "28f0d681",
   "metadata": {},
   "outputs": [],
   "source": [
    "import csv\n"
   ]
  },
  {
   "cell_type": "code",
   "execution_count": null,
   "id": "cb7c111d",
   "metadata": {},
   "outputs": [
    {
     "ename": "Error",
     "evalue": "iterator should return strings, not bytes (the file should be opened in text mode)",
     "output_type": "error",
     "traceback": [
      "\u001b[0;31m---------------------------------------------------------------------------\u001b[0m",
      "\u001b[0;31mError\u001b[0m                                     Traceback (most recent call last)",
      "Cell \u001b[0;32mIn[113], line 3\u001b[0m\n\u001b[1;32m      1\u001b[0m \u001b[38;5;28;01mwith\u001b[39;00m \u001b[38;5;28mopen\u001b[39m(\u001b[38;5;124m'\u001b[39m\u001b[38;5;124mstock_limite.csv\u001b[39m\u001b[38;5;124m'\u001b[39m, \u001b[38;5;124m'\u001b[39m\u001b[38;5;124mrb\u001b[39m\u001b[38;5;124m'\u001b[39m) \u001b[38;5;28;01mas\u001b[39;00m f:\n\u001b[1;32m      2\u001b[0m     reader \u001b[38;5;241m=\u001b[39m csv\u001b[38;5;241m.\u001b[39mreader(f, delimiter\u001b[38;5;241m=\u001b[39m\u001b[38;5;124m'\u001b[39m\u001b[38;5;130;01m\\t\u001b[39;00m\u001b[38;5;124m'\u001b[39m)\n\u001b[0;32m----> 3\u001b[0m     \u001b[38;5;28;01mfor\u001b[39;00m row \u001b[38;5;129;01min\u001b[39;00m reader:\n\u001b[1;32m      4\u001b[0m         date \u001b[38;5;241m=\u001b[39m row[\u001b[38;5;241m0\u001b[39m]\n\u001b[1;32m      5\u001b[0m         symbol \u001b[38;5;241m=\u001b[39m row[\u001b[38;5;241m1\u001b[39m]\n",
      "\u001b[0;31mError\u001b[0m: iterator should return strings, not bytes (the file should be opened in text mode)"
     ]
    }
   ],
   "source": [
    "with open('stock_limite.csv', 'rb') as f:\n",
    "    reader = csv.reader(f, delimiter='\\t')\n",
    "    for row in reader:\n",
    "        date = row[0]\n",
    "        symbol = row[1]\n",
    "        closing_price = float(row[2])\n",
    "        "
   ]
  },
  {
   "cell_type": "code",
   "execution_count": null,
   "id": "3a082f4a",
   "metadata": {},
   "outputs": [],
   "source": [
    "data = csv.reader('stock_limite.csv', delimiter='\\t')\n"
   ]
  },
  {
   "cell_type": "code",
   "execution_count": null,
   "id": "5ac8c91f",
   "metadata": {},
   "outputs": [
    {
     "ename": "IndexError",
     "evalue": "list index out of range",
     "output_type": "error",
     "traceback": [
      "\u001b[0;31m---------------------------------------------------------------------------\u001b[0m",
      "\u001b[0;31mIndexError\u001b[0m                                Traceback (most recent call last)",
      "Cell \u001b[0;32mIn[119], line 3\u001b[0m\n\u001b[1;32m      1\u001b[0m \u001b[38;5;28;01mfor\u001b[39;00m row \u001b[38;5;129;01min\u001b[39;00m data:\n\u001b[1;32m      2\u001b[0m     date \u001b[38;5;241m=\u001b[39m \u001b[38;5;28mlist\u001b[39m(row[\u001b[38;5;241m0\u001b[39m])\n\u001b[0;32m----> 3\u001b[0m     symbol \u001b[38;5;241m=\u001b[39m \u001b[38;5;28mlist\u001b[39m(\u001b[43mrow\u001b[49m\u001b[43m[\u001b[49m\u001b[38;5;241;43m1\u001b[39;49m\u001b[43m]\u001b[49m)\n\u001b[1;32m      4\u001b[0m     price \u001b[38;5;241m=\u001b[39m \u001b[38;5;28mlist\u001b[39m(row[\u001b[38;5;241m2\u001b[39m])\n",
      "\u001b[0;31mIndexError\u001b[0m: list index out of range"
     ]
    }
   ],
   "source": [
    "for row in data:\n",
    "    date = list(row[0])\n",
    "    symbol = list(row[1])\n",
    "    price = list(row[2])\n"
   ]
  },
  {
   "cell_type": "code",
   "execution_count": null,
   "id": "57945c83",
   "metadata": {},
   "outputs": [],
   "source": [
    "def bucketsize(point, bucket_size):\n",
    "    \"\"\"dirige le point vers le prochain plus petit multiple de bucket_size\"\"\"\n",
    "    return bucket_size * math.floor(point / bucket_size)\n"
   ]
  },
  {
   "cell_type": "code",
   "execution_count": 114,
   "id": "4e282c97",
   "metadata": {},
   "outputs": [],
   "source": [
    "def make_histogram(points, bucket_size):\n",
    "    \"\"\"separe les points et compte le nombre de points dans chaque tranche\"\"\"\n",
    "    histogram = {}\n",
    "    for point in points:\n",
    "        bucket = bucketsize(point, bucket_size)\n",
    "        histogram[bucket] = histogram.get(bucket, 0) + 1\n",
    "    return histogram\n",
    "\n",
    "    "
   ]
  },
  {
   "cell_type": "code",
   "execution_count": 115,
   "id": "2067f272",
   "metadata": {},
   "outputs": [],
   "source": [
    "def plot_histogram(points, bucket_size, title=\"\"):\n",
    "    histogram = make_histogram(points, bucket_size)\n",
    "    plt.bar(histogram.keys(), histogram.values(), width=bucket_size)\n",
    "    plt.title(title)\n",
    "    plt.show()\n"
   ]
  },
  {
   "cell_type": "code",
   "execution_count": 112,
   "id": "c486972a",
   "metadata": {},
   "outputs": [],
   "source": [
    "random.seed(0)\n",
    "\n",
    "# uniforme entre - 100 et 100\n",
    "uniform = [200 * random.random() - 100 for _ in range(10000)]\n",
    "\n",
    "# distribution normale avec esperance 0 et ecart-type 57\n",
    "normal = [57 * inverse_normal_cdf(random.random())\n",
    "          for _ in range(100000)]\n"
   ]
  },
  {
   "cell_type": "code",
   "execution_count": 116,
   "id": "f0753f13",
   "metadata": {},
   "outputs": [
    {
     "data": {
      "image/png": "[encoded data removed]",
      "text/plain": [
       "<Figure size 640x480 with 1 Axes>"
      ]
     },
     "metadata": {},
     "output_type": "display_data"
    }
   ],
   "source": [
    "plot_histogram(uniform, 10, \"Uniform Histogram\")\n"
   ]
  },
  {
   "cell_type": "code",
   "execution_count": 117,
   "id": "12cf610a",
   "metadata": {},
   "outputs": [
    {
     "data": {
      "image/png": "[encoded data removed]",
      "text/plain": [
       "<Figure size 640x480 with 1 Axes>"
      ]
     },
     "metadata": {},
     "output_type": "display_data"
    }
   ],
   "source": [
    "plot_histogram(normal, 10, \"Normal Histogram\")\n"
   ]
  },
  {
   "cell_type": "code",
   "execution_count": 118,
   "id": "5dd59e0a",
   "metadata": {},
   "outputs": [],
   "source": [
    "def random_normal():\n",
    "    \"\"\"retourne un graphique aleatoire a partir d'une distribution normale\"\"\"\n",
    "    return inverse_normal_cdf(random.random())\n",
    "xs = [random_normal() for _ in range(1000)]\n",
    "ys1 = [x + random_normal() / 2 for x in xs]\n",
    "ys2 = [-x + random_normal() / 2 for x in xs]\n"
   ]
  },
  {
   "cell_type": "code",
   "execution_count": 121,
   "id": "fc5ef3f1",
   "metadata": {},
   "outputs": [
    {
     "ename": "TypeError",
     "evalue": "unsupported operand type(s) for /: 'float' and 'list'",
     "output_type": "error",
     "traceback": [
      "\u001b[0;31m---------------------------------------------------------------------------\u001b[0m",
      "\u001b[0;31mTypeError\u001b[0m                                 Traceback (most recent call last)",
      "Cell \u001b[0;32mIn[121], line 1\u001b[0m\n\u001b[0;32m----> 1\u001b[0m \u001b[43mplot_histogram\u001b[49m\u001b[43m(\u001b[49m\u001b[43mys1\u001b[49m\u001b[43m,\u001b[49m\u001b[43m \u001b[49m\u001b[43mys2\u001b[49m\u001b[43m,\u001b[49m\u001b[43m \u001b[49m\u001b[38;5;124;43m\"\u001b[39;49m\u001b[38;5;124;43mHist de loi\u001b[39;49m\u001b[38;5;124;43m\"\u001b[39;49m\u001b[43m)\u001b[49m\n",
      "Cell \u001b[0;32mIn[115], line 2\u001b[0m, in \u001b[0;36mplot_histogram\u001b[0;34m(points, bucket_size, title)\u001b[0m\n\u001b[1;32m      1\u001b[0m \u001b[38;5;28;01mdef\u001b[39;00m \u001b[38;5;21mplot_histogram\u001b[39m(points, bucket_size, title\u001b[38;5;241m=\u001b[39m\u001b[38;5;124m\"\u001b[39m\u001b[38;5;124m\"\u001b[39m):\n\u001b[0;32m----> 2\u001b[0m     histogram \u001b[38;5;241m=\u001b[39m \u001b[43mmake_histogram\u001b[49m\u001b[43m(\u001b[49m\u001b[43mpoints\u001b[49m\u001b[43m,\u001b[49m\u001b[43m \u001b[49m\u001b[43mbucket_size\u001b[49m\u001b[43m)\u001b[49m\n\u001b[1;32m      3\u001b[0m     plt\u001b[38;5;241m.\u001b[39mbar(histogram\u001b[38;5;241m.\u001b[39mkeys(), histogram\u001b[38;5;241m.\u001b[39mvalues(), width\u001b[38;5;241m=\u001b[39mbucket_size)\n\u001b[1;32m      4\u001b[0m     plt\u001b[38;5;241m.\u001b[39mtitle(title)\n",
      "Cell \u001b[0;32mIn[114], line 5\u001b[0m, in \u001b[0;36mmake_histogram\u001b[0;34m(points, bucket_size)\u001b[0m\n\u001b[1;32m      3\u001b[0m histogram \u001b[38;5;241m=\u001b[39m {}\n\u001b[1;32m      4\u001b[0m \u001b[38;5;28;01mfor\u001b[39;00m point \u001b[38;5;129;01min\u001b[39;00m points:\n\u001b[0;32m----> 5\u001b[0m     bucket \u001b[38;5;241m=\u001b[39m \u001b[43mbucketsize\u001b[49m\u001b[43m(\u001b[49m\u001b[43mpoint\u001b[49m\u001b[43m,\u001b[49m\u001b[43m \u001b[49m\u001b[43mbucket_size\u001b[49m\u001b[43m)\u001b[49m\n\u001b[1;32m      6\u001b[0m     histogram[bucket] \u001b[38;5;241m=\u001b[39m histogram\u001b[38;5;241m.\u001b[39mget(bucket, \u001b[38;5;241m0\u001b[39m) \u001b[38;5;241m+\u001b[39m \u001b[38;5;241m1\u001b[39m\n\u001b[1;32m      7\u001b[0m \u001b[38;5;28;01mreturn\u001b[39;00m histogram\n",
      "Cell \u001b[0;32mIn[109], line 3\u001b[0m, in \u001b[0;36mbucketsize\u001b[0;34m(point, bucket_size)\u001b[0m\n\u001b[1;32m      1\u001b[0m \u001b[38;5;28;01mdef\u001b[39;00m \u001b[38;5;21mbucketsize\u001b[39m(point, bucket_size):\n\u001b[1;32m      2\u001b[0m \u001b[38;5;250m    \u001b[39m\u001b[38;5;124;03m\"\"\"dirige le point vers le prochain plus petit multiple de bucket_size\"\"\"\u001b[39;00m\n\u001b[0;32m----> 3\u001b[0m     \u001b[38;5;28;01mreturn\u001b[39;00m bucket_size \u001b[38;5;241m*\u001b[39m math\u001b[38;5;241m.\u001b[39mfloor(\u001b[43mpoint\u001b[49m\u001b[43m \u001b[49m\u001b[38;5;241;43m/\u001b[39;49m\u001b[43m \u001b[49m\u001b[43mbucket_size\u001b[49m)\n",
      "\u001b[0;31mTypeError\u001b[0m: unsupported operand type(s) for /: 'float' and 'list'"
     ]
    }
   ],
   "source": [
    "plot_histogram(ys1, ys2, \"Hist de loi\")\n"
   ]
  },
  {
   "cell_type": "code",
   "execution_count": 122,
   "id": "b5ad66b3",
   "metadata": {},
   "outputs": [
    {
     "data": {
      "image/png": "[encoded data removed]",
      "text/plain": [
       "<Figure size 640x480 with 1 Axes>"
      ]
     },
     "metadata": {},
     "output_type": "display_data"
    }
   ],
   "source": [
    "plt.scatter(xs, ys1, marker='.', color='black', label='ys1')\n",
    "plt.scatter(xs, ys2, marker='.', color='gray', label='ys2')\n",
    "plt.xlabel('xs')\n",
    "plt.ylabel('ys')\n",
    "plt.legend(loc=9)\n",
    "plt.title(\"Distributions conjointes tres differentes\")\n",
    "plt.show()\n"
   ]
  },
  {
   "cell_type": "code",
   "execution_count": 123,
   "id": "36f62c12",
   "metadata": {},
   "outputs": [
    {
     "name": "stdout",
     "output_type": "stream",
     "text": [
      "0.9040123598990163\n",
      "-0.9023983845297132\n"
     ]
    }
   ],
   "source": [
    "print(correlation(xs, ys1))\n",
    "print(correlation(xs, ys2))\n"
   ]
  },
  {
   "cell_type": "code",
   "execution_count": 124,
   "id": "2f3a5723",
   "metadata": {},
   "outputs": [],
   "source": [
    "def correlation_matrix(data):\n",
    "    \"\"\"Retourne la matrice num_column x num_column dont l'Entrée de rang (i, j) est la correlation entre les colonnes i et j des Données \"\"\"\n",
    "    _, num_columns = shape(data)\n",
    "\n",
    "    def matrix_entry(i, j):\n",
    "        return correlation(get_colmn(data, i), get_colmn(data, j))\n",
    "    \n",
    "    return make_matrix(num_columns, num_columns, matrix_entry)\n"
   ]
  },
  {
   "cell_type": "code",
   "execution_count": null,
   "id": "3c9f1c5b",
   "metadata": {},
   "outputs": [],
   "source": [
    "import matplotlib.pyplot as plt\n"
   ]
  },
  {
   "cell_type": "code",
   "execution_count": null,
   "id": "c4739644",
   "metadata": {},
   "outputs": [],
   "source": [
    "import pandas as pd \n",
    "import numpy as np \n"
   ]
  },
  {
   "cell_type": "code",
   "execution_count": null,
   "id": "f257abd3",
   "metadata": {},
   "outputs": [],
   "source": [
    "np.random.seed(42)  # pour avoir toujours les mêmes nombres\n",
    "data = {\n",
    "    \"label\": [f\"series {i}\" for i in np.random.randint(0, 4, 20)],\n",
    "    \"value\": np.random.randint(1, 100, 20)\n",
    "}\n",
    "\n",
    "df = pd.DataFrame(data)\n"
   ]
  },
  {
   "cell_type": "code",
   "execution_count": 132,
   "id": "905ceea3",
   "metadata": {},
   "outputs": [
    {
     "data": {
      "image/png": "[encoded data removed]",
      "text/plain": [
       "<Figure size 1000x1000 with 16 Axes>"
      ]
     },
     "metadata": {},
     "output_type": "display_data"
    }
   ],
   "source": [
    "import matplotlib.pyplot as plt\n",
    "import pandas as pd\n",
    "import numpy as np\n",
    "\n",
    "# Exemple de dataset avec 4 colonnes numériques\n",
    "np.random.seed(42)\n",
    "data = pd.DataFrame({\n",
    "    \"series 0\": np.random.randint(1, 100, 20),\n",
    "    \"series 1\": np.random.randint(1, 100, 20),\n",
    "    \"series 2\": np.random.randint(1, 100, 20),\n",
    "    \"series 3\": np.random.randint(1, 100, 20),\n",
    "})\n",
    "\n",
    "num_columns = data.shape[1]\n",
    "fig, ax = plt.subplots(num_columns, num_columns, figsize=(10, 10))\n",
    "\n",
    "for i in range(num_columns):\n",
    "    for j in range(num_columns):\n",
    "        if i != j:\n",
    "            ax[i][j].scatter(data.iloc[:, j], data.iloc[:, i])\n",
    "        else:\n",
    "            ax[i][j].annotate(\n",
    "                data.columns[i],\n",
    "                (0.5, 0.5),\n",
    "                xycoords='axes fraction',\n",
    "                ha='center',\n",
    "                va='center'\n",
    "            )\n",
    "\n",
    "        # cache les labels sauf en bas et à gauche\n",
    "        if i < num_columns - 1:\n",
    "            ax[i][j].xaxis.set_visible(False)\n",
    "        if j > 0:\n",
    "            ax[i][j].yaxis.set_visible(False)\n",
    "\n",
    "# corrige les limites pour que le texte ne soit pas écrasé\n",
    "ax[-1, -1].set_xlim(ax[0, -1].get_xlim())\n",
    "ax[0, 0].set_ylim(ax[0, 1].get_ylim())\n",
    "\n",
    "plt.tight_layout()\n",
    "plt.show()\n"
   ]
  },
  {
   "cell_type": "markdown",
   "id": "33a52b60",
   "metadata": {},
   "source": [
    "### Nettoyage et transformation"
   ]
  },
  {
   "cell_type": "code",
   "execution_count": 133,
   "id": "e1b886fd",
   "metadata": {},
   "outputs": [],
   "source": [
    "def parse_row(input_row, parsers):\n",
    "    \"\"\"Pour une liste Données de parseurs (certains d'entre eux Éventuellement a None) appliquer le bon parseur a chaque Élément colonne de la ligne en Entrée \"\"\"\n",
    "    return [parser(value) if parser is not None else value \n",
    "            for value, parser in zip(input_row, parsers)]\n"
   ]
  },
  {
   "cell_type": "code",
   "execution_count": null,
   "id": "bd9f5b43",
   "metadata": {},
   "outputs": [],
   "source": [
    "def parse_rows_with(reader, parsers):\n",
    "    \"\"\"encapsule un lecteur pour appliquer les parseurs a chacune de ses lignes\"\"\"\n",
    "    for row in reader:\n",
    "        yield(parsers(row, parsers))\n"
   ]
  },
  {
   "cell_type": "code",
   "execution_count": 135,
   "id": "8037eab4",
   "metadata": {},
   "outputs": [],
   "source": [
    "def try_or_none(f):\n",
    "    \"\"\"enveloppe f pour retourner None si f declenche une exception suppose que f prend seulement une Entrée \"\"\"\n",
    "    def f_or_none(x):\n",
    "        try: return f(x)\n",
    "        except: return None\n",
    "    return f_or_none\n"
   ]
  },
  {
   "cell_type": "code",
   "execution_count": null,
   "id": "eae7f37a",
   "metadata": {},
   "outputs": [],
   "source": [
    "def parse_row(input_row, parsers):\n",
    "    return [try_or_none(parser)(value) if parser is not None \n",
    "            else value \n",
    "            for value, parser in zip(input_row, parsers)]\n"
   ]
  },
  {
   "cell_type": "code",
   "execution_count": null,
   "id": "5bfa131d",
   "metadata": {},
   "outputs": [],
   "source": []
  }
 ],
 "metadata": {
  "kernelspec": {
   "display_name": "Python 3",
   "language": "python",
   "name": "python3"
  },
  "language_info": {
   "codemirror_mode": {
    "name": "ipython",
    "version": 3
   },
   "file_extension": ".py",
   "mimetype": "text/x-python",
   "name": "python",
   "nbconvert_exporter": "python",
   "pygments_lexer": "ipython3",
   "version": "3.12.9"
  }
 },
 "nbformat": 4,
 "nbformat_minor": 5
}
